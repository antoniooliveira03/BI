{
 "cells": [
  {
   "cell_type": "code",
   "execution_count": 1,
   "id": "fc76b60a",
   "metadata": {
    "ExecuteTime": {
     "end_time": "2024-10-31T14:06:00.182271Z",
     "start_time": "2024-10-31T14:05:57.792114Z"
    }
   },
   "outputs": [],
   "source": [
    "import pandas as pd\n",
    "\n",
    "import matplotlib.pyplot as plt\n",
    "import seaborn as sns"
   ]
  },
  {
   "cell_type": "code",
   "execution_count": 2,
   "id": "0e96c889",
   "metadata": {
    "ExecuteTime": {
     "end_time": "2024-10-31T14:06:00.272045Z",
     "start_time": "2024-10-31T14:06:00.186284Z"
    }
   },
   "outputs": [],
   "source": [
    "customers = pd.read_csv('./dados/Customers.csv')\n",
    "dates = pd.read_csv('./dados/Dates.csv')\n",
    "payments = pd.read_csv('./dados/Payment.csv')\n",
    "products = pd.read_csv('./dados/Products.csv')\n",
    "warehouses = pd.read_csv('./dados/Warehouses.csv')"
   ]
  },
  {
   "cell_type": "code",
   "execution_count": 3,
   "id": "a976101e",
   "metadata": {
    "ExecuteTime": {
     "end_time": "2024-10-31T14:06:00.293998Z",
     "start_time": "2024-10-31T14:06:00.274612Z"
    }
   },
   "outputs": [
    {
     "data": {
      "text/html": [
       "<div>\n",
       "<style scoped>\n",
       "    .dataframe tbody tr th:only-of-type {\n",
       "        vertical-align: middle;\n",
       "    }\n",
       "\n",
       "    .dataframe tbody tr th {\n",
       "        vertical-align: top;\n",
       "    }\n",
       "\n",
       "    .dataframe thead th {\n",
       "        text-align: right;\n",
       "    }\n",
       "</style>\n",
       "<table border=\"1\" class=\"dataframe\">\n",
       "  <thead>\n",
       "    <tr style=\"text-align: right;\">\n",
       "      <th></th>\n",
       "      <th>customer_key</th>\n",
       "      <th>name</th>\n",
       "      <th>title</th>\n",
       "      <th>gender</th>\n",
       "      <th>date_of_birth</th>\n",
       "      <th>email</th>\n",
       "      <th>phone</th>\n",
       "      <th>continent</th>\n",
       "      <th>country</th>\n",
       "      <th>country_code</th>\n",
       "      <th>city</th>\n",
       "      <th>street_address</th>\n",
       "      <th>street_suffix</th>\n",
       "      <th>street_name</th>\n",
       "      <th>street_number</th>\n",
       "      <th>latitude</th>\n",
       "      <th>longitude</th>\n",
       "    </tr>\n",
       "  </thead>\n",
       "  <tbody>\n",
       "    <tr>\n",
       "      <th>0</th>\n",
       "      <td>C000001</td>\n",
       "      <td>Sigfried Ixer</td>\n",
       "      <td>Ms</td>\n",
       "      <td>Female</td>\n",
       "      <td>1974-01-25</td>\n",
       "      <td>sixer5r@angelfire.com</td>\n",
       "      <td>571-616-9743</td>\n",
       "      <td>North America</td>\n",
       "      <td>United States</td>\n",
       "      <td>US</td>\n",
       "      <td>Alexandria</td>\n",
       "      <td>751 Harper Alley</td>\n",
       "      <td>Place</td>\n",
       "      <td>Becker</td>\n",
       "      <td>45</td>\n",
       "      <td>38.800000</td>\n",
       "      <td>-77.050000</td>\n",
       "    </tr>\n",
       "    <tr>\n",
       "      <th>1</th>\n",
       "      <td>C000002</td>\n",
       "      <td>Amalia Flintoft</td>\n",
       "      <td>Mrs</td>\n",
       "      <td>Female</td>\n",
       "      <td>1985-06-25</td>\n",
       "      <td>aflintoftg7@infoseek.co.jp</td>\n",
       "      <td>218-702-8231</td>\n",
       "      <td>Europe</td>\n",
       "      <td>Czech Republic</td>\n",
       "      <td>CZ</td>\n",
       "      <td>Čáslav</td>\n",
       "      <td>81227 Pine View Place</td>\n",
       "      <td>Court</td>\n",
       "      <td>Sullivan</td>\n",
       "      <td>92711</td>\n",
       "      <td>50.661477</td>\n",
       "      <td>14.273431</td>\n",
       "    </tr>\n",
       "    <tr>\n",
       "      <th>2</th>\n",
       "      <td>C000003</td>\n",
       "      <td>Ondrea Mahy</td>\n",
       "      <td>Rev</td>\n",
       "      <td>Male</td>\n",
       "      <td>1985-03-04</td>\n",
       "      <td>omahyey@yelp.com</td>\n",
       "      <td>394-348-8032</td>\n",
       "      <td>Asia</td>\n",
       "      <td>Japan</td>\n",
       "      <td>JP</td>\n",
       "      <td>Kawasaki</td>\n",
       "      <td>3152 Continental Circle</td>\n",
       "      <td>Center</td>\n",
       "      <td>Park Meadow</td>\n",
       "      <td>97</td>\n",
       "      <td>38.153639</td>\n",
       "      <td>140.266785</td>\n",
       "    </tr>\n",
       "    <tr>\n",
       "      <th>3</th>\n",
       "      <td>C000004</td>\n",
       "      <td>Rochell Jarratt</td>\n",
       "      <td>Ms</td>\n",
       "      <td>Female</td>\n",
       "      <td>1969-07-04</td>\n",
       "      <td>rjarrattcf@businesswire.com</td>\n",
       "      <td>954-118-8470</td>\n",
       "      <td>Asia</td>\n",
       "      <td>Indonesia</td>\n",
       "      <td>ID</td>\n",
       "      <td>Selorejo</td>\n",
       "      <td>6 Hagan Court</td>\n",
       "      <td>Trail</td>\n",
       "      <td>Everett</td>\n",
       "      <td>95257</td>\n",
       "      <td>-7.938718</td>\n",
       "      <td>112.539409</td>\n",
       "    </tr>\n",
       "    <tr>\n",
       "      <th>4</th>\n",
       "      <td>C000005</td>\n",
       "      <td>Vail Storcke</td>\n",
       "      <td>Honorable</td>\n",
       "      <td>Female</td>\n",
       "      <td>1972-02-22</td>\n",
       "      <td>vstorcke7f@purevolume.com</td>\n",
       "      <td>611-798-1812</td>\n",
       "      <td>Europe</td>\n",
       "      <td>Poland</td>\n",
       "      <td>PL</td>\n",
       "      <td>Siedlce</td>\n",
       "      <td>0179 Green Center</td>\n",
       "      <td>Avenue</td>\n",
       "      <td>Mitchell</td>\n",
       "      <td>62</td>\n",
       "      <td>49.687421</td>\n",
       "      <td>20.776535</td>\n",
       "    </tr>\n",
       "  </tbody>\n",
       "</table>\n",
       "</div>"
      ],
      "text/plain": [
       "  customer_key             name      title  gender date_of_birth  \\\n",
       "0      C000001    Sigfried Ixer         Ms  Female    1974-01-25   \n",
       "1      C000002  Amalia Flintoft        Mrs  Female    1985-06-25   \n",
       "2      C000003      Ondrea Mahy        Rev    Male    1985-03-04   \n",
       "3      C000004  Rochell Jarratt         Ms  Female    1969-07-04   \n",
       "4      C000005     Vail Storcke  Honorable  Female    1972-02-22   \n",
       "\n",
       "                         email         phone      continent         country  \\\n",
       "0        sixer5r@angelfire.com  571-616-9743  North America   United States   \n",
       "1   aflintoftg7@infoseek.co.jp  218-702-8231         Europe  Czech Republic   \n",
       "2             omahyey@yelp.com  394-348-8032           Asia           Japan   \n",
       "3  rjarrattcf@businesswire.com  954-118-8470           Asia       Indonesia   \n",
       "4    vstorcke7f@purevolume.com  611-798-1812         Europe          Poland   \n",
       "\n",
       "  country_code        city           street_address street_suffix  \\\n",
       "0           US  Alexandria         751 Harper Alley         Place   \n",
       "1           CZ      Čáslav    81227 Pine View Place         Court   \n",
       "2           JP    Kawasaki  3152 Continental Circle        Center   \n",
       "3           ID    Selorejo            6 Hagan Court         Trail   \n",
       "4           PL     Siedlce        0179 Green Center        Avenue   \n",
       "\n",
       "   street_name  street_number   latitude   longitude  \n",
       "0       Becker             45  38.800000  -77.050000  \n",
       "1     Sullivan          92711  50.661477   14.273431  \n",
       "2  Park Meadow             97  38.153639  140.266785  \n",
       "3      Everett          95257  -7.938718  112.539409  \n",
       "4     Mitchell             62  49.687421   20.776535  "
      ]
     },
     "execution_count": 3,
     "metadata": {},
     "output_type": "execute_result"
    }
   ],
   "source": [
    "customers.head()"
   ]
  },
  {
   "cell_type": "code",
   "execution_count": 4,
   "id": "5d4d1e76",
   "metadata": {
    "ExecuteTime": {
     "end_time": "2024-10-31T14:06:00.307472Z",
     "start_time": "2024-10-31T14:06:00.297574Z"
    }
   },
   "outputs": [
    {
     "data": {
      "text/html": [
       "<div>\n",
       "<style scoped>\n",
       "    .dataframe tbody tr th:only-of-type {\n",
       "        vertical-align: middle;\n",
       "    }\n",
       "\n",
       "    .dataframe tbody tr th {\n",
       "        vertical-align: top;\n",
       "    }\n",
       "\n",
       "    .dataframe thead th {\n",
       "        text-align: right;\n",
       "    }\n",
       "</style>\n",
       "<table border=\"1\" class=\"dataframe\">\n",
       "  <thead>\n",
       "    <tr style=\"text-align: right;\">\n",
       "      <th></th>\n",
       "      <th>time_key</th>\n",
       "      <th>date</th>\n",
       "      <th>day</th>\n",
       "      <th>week</th>\n",
       "      <th>month</th>\n",
       "      <th>quarter</th>\n",
       "      <th>year</th>\n",
       "    </tr>\n",
       "  </thead>\n",
       "  <tbody>\n",
       "    <tr>\n",
       "      <th>0</th>\n",
       "      <td>T000001</td>\n",
       "      <td>20-05-2017</td>\n",
       "      <td>20</td>\n",
       "      <td>3rd Week</td>\n",
       "      <td>5</td>\n",
       "      <td>Q2</td>\n",
       "      <td>2017</td>\n",
       "    </tr>\n",
       "    <tr>\n",
       "      <th>1</th>\n",
       "      <td>T000002</td>\n",
       "      <td>30-01-2015</td>\n",
       "      <td>30</td>\n",
       "      <td>4th Week</td>\n",
       "      <td>1</td>\n",
       "      <td>Q1</td>\n",
       "      <td>2015</td>\n",
       "    </tr>\n",
       "    <tr>\n",
       "      <th>2</th>\n",
       "      <td>T000003</td>\n",
       "      <td>14-03-2020</td>\n",
       "      <td>14</td>\n",
       "      <td>2nd Week</td>\n",
       "      <td>3</td>\n",
       "      <td>Q1</td>\n",
       "      <td>2020</td>\n",
       "    </tr>\n",
       "    <tr>\n",
       "      <th>3</th>\n",
       "      <td>T000004</td>\n",
       "      <td>27-04-2018</td>\n",
       "      <td>27</td>\n",
       "      <td>4th Week</td>\n",
       "      <td>4</td>\n",
       "      <td>Q2</td>\n",
       "      <td>2018</td>\n",
       "    </tr>\n",
       "    <tr>\n",
       "      <th>4</th>\n",
       "      <td>T000005</td>\n",
       "      <td>14-04-2018</td>\n",
       "      <td>14</td>\n",
       "      <td>2nd Week</td>\n",
       "      <td>4</td>\n",
       "      <td>Q2</td>\n",
       "      <td>2018</td>\n",
       "    </tr>\n",
       "  </tbody>\n",
       "</table>\n",
       "</div>"
      ],
      "text/plain": [
       "  time_key        date  day      week  month quarter  year\n",
       "0  T000001  20-05-2017   20  3rd Week      5      Q2  2017\n",
       "1  T000002  30-01-2015   30  4th Week      1      Q1  2015\n",
       "2  T000003  14-03-2020   14  2nd Week      3      Q1  2020\n",
       "3  T000004  27-04-2018   27  4th Week      4      Q2  2018\n",
       "4  T000005  14-04-2018   14  2nd Week      4      Q2  2018"
      ]
     },
     "execution_count": 4,
     "metadata": {},
     "output_type": "execute_result"
    }
   ],
   "source": [
    "dates.head()"
   ]
  },
  {
   "cell_type": "code",
   "execution_count": 5,
   "id": "04149265",
   "metadata": {
    "ExecuteTime": {
     "end_time": "2024-10-31T14:06:00.316435Z",
     "start_time": "2024-10-31T14:06:00.309660Z"
    }
   },
   "outputs": [
    {
     "data": {
      "text/html": [
       "<div>\n",
       "<style scoped>\n",
       "    .dataframe tbody tr th:only-of-type {\n",
       "        vertical-align: middle;\n",
       "    }\n",
       "\n",
       "    .dataframe tbody tr th {\n",
       "        vertical-align: top;\n",
       "    }\n",
       "\n",
       "    .dataframe thead th {\n",
       "        text-align: right;\n",
       "    }\n",
       "</style>\n",
       "<table border=\"1\" class=\"dataframe\">\n",
       "  <thead>\n",
       "    <tr style=\"text-align: right;\">\n",
       "      <th></th>\n",
       "      <th>payment_key</th>\n",
       "      <th>trans_type</th>\n",
       "      <th>bank_name</th>\n",
       "    </tr>\n",
       "  </thead>\n",
       "  <tbody>\n",
       "    <tr>\n",
       "      <th>0</th>\n",
       "      <td>P001</td>\n",
       "      <td>cash</td>\n",
       "      <td>NaN</td>\n",
       "    </tr>\n",
       "    <tr>\n",
       "      <th>1</th>\n",
       "      <td>P002</td>\n",
       "      <td>card</td>\n",
       "      <td>AB Bank Limited</td>\n",
       "    </tr>\n",
       "    <tr>\n",
       "      <th>2</th>\n",
       "      <td>P003</td>\n",
       "      <td>card</td>\n",
       "      <td>Bangladesh Commerce Bank Limited</td>\n",
       "    </tr>\n",
       "    <tr>\n",
       "      <th>3</th>\n",
       "      <td>P004</td>\n",
       "      <td>card</td>\n",
       "      <td>Bank Asia Limited</td>\n",
       "    </tr>\n",
       "    <tr>\n",
       "      <th>4</th>\n",
       "      <td>P005</td>\n",
       "      <td>card</td>\n",
       "      <td>BRAC Bank Limited</td>\n",
       "    </tr>\n",
       "  </tbody>\n",
       "</table>\n",
       "</div>"
      ],
      "text/plain": [
       "  payment_key trans_type                         bank_name\n",
       "0        P001       cash                               NaN\n",
       "1        P002       card                   AB Bank Limited\n",
       "2        P003       card  Bangladesh Commerce Bank Limited\n",
       "3        P004       card                 Bank Asia Limited\n",
       "4        P005       card                 BRAC Bank Limited"
      ]
     },
     "execution_count": 5,
     "metadata": {},
     "output_type": "execute_result"
    }
   ],
   "source": [
    "payments.head()"
   ]
  },
  {
   "cell_type": "code",
   "execution_count": 6,
   "id": "f3895306",
   "metadata": {
    "ExecuteTime": {
     "end_time": "2024-10-31T14:06:00.329460Z",
     "start_time": "2024-10-31T14:06:00.318690Z"
    }
   },
   "outputs": [
    {
     "data": {
      "text/html": [
       "<div>\n",
       "<style scoped>\n",
       "    .dataframe tbody tr th:only-of-type {\n",
       "        vertical-align: middle;\n",
       "    }\n",
       "\n",
       "    .dataframe tbody tr th {\n",
       "        vertical-align: top;\n",
       "    }\n",
       "\n",
       "    .dataframe thead th {\n",
       "        text-align: right;\n",
       "    }\n",
       "</style>\n",
       "<table border=\"1\" class=\"dataframe\">\n",
       "  <thead>\n",
       "    <tr style=\"text-align: right;\">\n",
       "      <th></th>\n",
       "      <th>product_key</th>\n",
       "      <th>product</th>\n",
       "      <th>description</th>\n",
       "      <th>unit_price</th>\n",
       "      <th>man_continent</th>\n",
       "      <th>man_country</th>\n",
       "      <th>country_code</th>\n",
       "      <th>supplier</th>\n",
       "    </tr>\n",
       "  </thead>\n",
       "  <tbody>\n",
       "    <tr>\n",
       "      <th>0</th>\n",
       "      <td>I00001</td>\n",
       "      <td>A&amp;W Root Beer</td>\n",
       "      <td>Beverage - Soda - 12 cans</td>\n",
       "      <td>11.50</td>\n",
       "      <td>Europe</td>\n",
       "      <td>Netherlands</td>\n",
       "      <td>NL</td>\n",
       "      <td>Bolsius Boxmeer</td>\n",
       "    </tr>\n",
       "    <tr>\n",
       "      <th>1</th>\n",
       "      <td>I00002</td>\n",
       "      <td>A&amp;W Root Beer Diet</td>\n",
       "      <td>Beverage - Soda - 12 cans</td>\n",
       "      <td>6.75</td>\n",
       "      <td>Europe</td>\n",
       "      <td>poland</td>\n",
       "      <td>PL</td>\n",
       "      <td>CHROMADURLIN S.A.S</td>\n",
       "    </tr>\n",
       "    <tr>\n",
       "      <th>2</th>\n",
       "      <td>I00003</td>\n",
       "      <td>Barq's Root Beer</td>\n",
       "      <td>Beverage - Soda - 12 cans</td>\n",
       "      <td>6.75</td>\n",
       "      <td>Asia</td>\n",
       "      <td>Bangladesh</td>\n",
       "      <td>BD</td>\n",
       "      <td>DENIMACH LTD</td>\n",
       "    </tr>\n",
       "    <tr>\n",
       "      <th>3</th>\n",
       "      <td>I00004</td>\n",
       "      <td>Cherry Coke</td>\n",
       "      <td>Beverage - Soda - 12 cans</td>\n",
       "      <td>6.75</td>\n",
       "      <td>Europe</td>\n",
       "      <td>Netherlands</td>\n",
       "      <td>NL</td>\n",
       "      <td>Bolsius Boxmeer</td>\n",
       "    </tr>\n",
       "    <tr>\n",
       "      <th>4</th>\n",
       "      <td>I00005</td>\n",
       "      <td>Cherry Coke Zero</td>\n",
       "      <td>Beverage - Soda - 12 cans</td>\n",
       "      <td>6.75</td>\n",
       "      <td>Europe</td>\n",
       "      <td>Finland</td>\n",
       "      <td>FI</td>\n",
       "      <td>HARDFORD AB</td>\n",
       "    </tr>\n",
       "  </tbody>\n",
       "</table>\n",
       "</div>"
      ],
      "text/plain": [
       "  product_key             product                description  unit_price  \\\n",
       "0      I00001       A&W Root Beer  Beverage - Soda - 12 cans       11.50   \n",
       "1      I00002  A&W Root Beer Diet  Beverage - Soda - 12 cans        6.75   \n",
       "2      I00003    Barq's Root Beer  Beverage - Soda - 12 cans        6.75   \n",
       "3      I00004         Cherry Coke  Beverage - Soda - 12 cans        6.75   \n",
       "4      I00005    Cherry Coke Zero  Beverage - Soda - 12 cans        6.75   \n",
       "\n",
       "  man_continent  man_country country_code            supplier  \n",
       "0        Europe  Netherlands           NL     Bolsius Boxmeer  \n",
       "1        Europe       poland           PL  CHROMADURLIN S.A.S  \n",
       "2          Asia   Bangladesh           BD        DENIMACH LTD  \n",
       "3        Europe  Netherlands           NL     Bolsius Boxmeer  \n",
       "4        Europe      Finland           FI         HARDFORD AB  "
      ]
     },
     "execution_count": 6,
     "metadata": {},
     "output_type": "execute_result"
    }
   ],
   "source": [
    "products.head()"
   ]
  },
  {
   "cell_type": "code",
   "execution_count": 7,
   "id": "a4eea455",
   "metadata": {
    "ExecuteTime": {
     "end_time": "2024-10-31T14:06:00.343385Z",
     "start_time": "2024-10-31T14:06:00.332067Z"
    }
   },
   "outputs": [
    {
     "data": {
      "text/html": [
       "<div>\n",
       "<style scoped>\n",
       "    .dataframe tbody tr th:only-of-type {\n",
       "        vertical-align: middle;\n",
       "    }\n",
       "\n",
       "    .dataframe tbody tr th {\n",
       "        vertical-align: top;\n",
       "    }\n",
       "\n",
       "    .dataframe thead th {\n",
       "        text-align: right;\n",
       "    }\n",
       "</style>\n",
       "<table border=\"1\" class=\"dataframe\">\n",
       "  <thead>\n",
       "    <tr style=\"text-align: right;\">\n",
       "      <th></th>\n",
       "      <th>store_key</th>\n",
       "      <th>name</th>\n",
       "      <th>phone</th>\n",
       "      <th>continent</th>\n",
       "      <th>country</th>\n",
       "      <th>country_code</th>\n",
       "      <th>city</th>\n",
       "      <th>address</th>\n",
       "      <th>latitude</th>\n",
       "      <th>longitude</th>\n",
       "    </tr>\n",
       "  </thead>\n",
       "  <tbody>\n",
       "    <tr>\n",
       "      <th>0</th>\n",
       "      <td>S00001</td>\n",
       "      <td>Mirdiff city center</td>\n",
       "      <td>+971-42316646</td>\n",
       "      <td>Asia</td>\n",
       "      <td>United Arab Emirates</td>\n",
       "      <td>AE</td>\n",
       "      <td>Dubai</td>\n",
       "      <td>شارع 47, مردف, دبي, الإمارات العربية المتحدة</td>\n",
       "      <td>25.226280</td>\n",
       "      <td>55.424840</td>\n",
       "    </tr>\n",
       "    <tr>\n",
       "      <th>1</th>\n",
       "      <td>S00002</td>\n",
       "      <td>Dubai Mall</td>\n",
       "      <td>+971-44190346</td>\n",
       "      <td>Asia</td>\n",
       "      <td>United Arab Emirates</td>\n",
       "      <td>AE</td>\n",
       "      <td>Dubai</td>\n",
       "      <td>دبي مول, شارع المركز المالي, وسط مدينة دبي, دب...</td>\n",
       "      <td>25.197506</td>\n",
       "      <td>55.278446</td>\n",
       "    </tr>\n",
       "    <tr>\n",
       "      <th>2</th>\n",
       "      <td>S00003</td>\n",
       "      <td>Abu Dhabi-Dubai Rd - Abu Dhabi</td>\n",
       "      <td>+971-26120851</td>\n",
       "      <td>Asia</td>\n",
       "      <td>United Arab Emirates</td>\n",
       "      <td>AE</td>\n",
       "      <td>Abu Dhabi</td>\n",
       "      <td>Deerfields Townsquare Shopping Centre, شارع ال...</td>\n",
       "      <td>24.523875</td>\n",
       "      <td>54.671499</td>\n",
       "    </tr>\n",
       "    <tr>\n",
       "      <th>3</th>\n",
       "      <td>S00004</td>\n",
       "      <td>Street E</td>\n",
       "      <td>+971-44190590</td>\n",
       "      <td>Asia</td>\n",
       "      <td>United Arab Emirates</td>\n",
       "      <td>AE</td>\n",
       "      <td>Dubai</td>\n",
       "      <td>Shades, ممشى المارينا, دبي مارينا, مرسى دبي, د...</td>\n",
       "      <td>25.077058</td>\n",
       "      <td>55.140564</td>\n",
       "    </tr>\n",
       "    <tr>\n",
       "      <th>4</th>\n",
       "      <td>S00005</td>\n",
       "      <td>Fujairah City Center</td>\n",
       "      <td>+971-92029601</td>\n",
       "      <td>Asia</td>\n",
       "      <td>United Arab Emirates</td>\n",
       "      <td>AE</td>\n",
       "      <td>Fujairah</td>\n",
       "      <td>City Centre Fujairah, شارع الشيخ حمد بن عبد ال...</td>\n",
       "      <td>25.125555</td>\n",
       "      <td>56.301462</td>\n",
       "    </tr>\n",
       "  </tbody>\n",
       "</table>\n",
       "</div>"
      ],
      "text/plain": [
       "  store_key                            name          phone continent  \\\n",
       "0    S00001             Mirdiff city center  +971-42316646      Asia   \n",
       "1    S00002                      Dubai Mall  +971-44190346      Asia   \n",
       "2    S00003  Abu Dhabi-Dubai Rd - Abu Dhabi  +971-26120851      Asia   \n",
       "3    S00004                        Street E  +971-44190590      Asia   \n",
       "4    S00005            Fujairah City Center  +971-92029601      Asia   \n",
       "\n",
       "                country country_code       city  \\\n",
       "0  United Arab Emirates           AE      Dubai   \n",
       "1  United Arab Emirates           AE      Dubai   \n",
       "2  United Arab Emirates           AE  Abu Dhabi   \n",
       "3  United Arab Emirates           AE      Dubai   \n",
       "4  United Arab Emirates           AE   Fujairah   \n",
       "\n",
       "                                             address   latitude  longitude  \n",
       "0       شارع 47, مردف, دبي, الإمارات العربية المتحدة  25.226280  55.424840  \n",
       "1  دبي مول, شارع المركز المالي, وسط مدينة دبي, دب...  25.197506  55.278446  \n",
       "2  Deerfields Townsquare Shopping Centre, شارع ال...  24.523875  54.671499  \n",
       "3  Shades, ممشى المارينا, دبي مارينا, مرسى دبي, د...  25.077058  55.140564  \n",
       "4  City Centre Fujairah, شارع الشيخ حمد بن عبد ال...  25.125555  56.301462  "
      ]
     },
     "execution_count": 7,
     "metadata": {},
     "output_type": "execute_result"
    }
   ],
   "source": [
    "warehouses.head()"
   ]
  },
  {
   "cell_type": "markdown",
   "id": "757ad19a",
   "metadata": {},
   "source": [
    "## Customers"
   ]
  },
  {
   "cell_type": "code",
   "execution_count": 8,
   "id": "5d908c73",
   "metadata": {
    "ExecuteTime": {
     "end_time": "2024-10-31T14:06:00.360646Z",
     "start_time": "2024-10-31T14:06:00.345637Z"
    }
   },
   "outputs": [
    {
     "data": {
      "text/html": [
       "<div>\n",
       "<style scoped>\n",
       "    .dataframe tbody tr th:only-of-type {\n",
       "        vertical-align: middle;\n",
       "    }\n",
       "\n",
       "    .dataframe tbody tr th {\n",
       "        vertical-align: top;\n",
       "    }\n",
       "\n",
       "    .dataframe thead th {\n",
       "        text-align: right;\n",
       "    }\n",
       "</style>\n",
       "<table border=\"1\" class=\"dataframe\">\n",
       "  <thead>\n",
       "    <tr style=\"text-align: right;\">\n",
       "      <th></th>\n",
       "      <th>street_number</th>\n",
       "      <th>latitude</th>\n",
       "      <th>longitude</th>\n",
       "    </tr>\n",
       "  </thead>\n",
       "  <tbody>\n",
       "    <tr>\n",
       "      <th>count</th>\n",
       "      <td>9191.000000</td>\n",
       "      <td>9191.000000</td>\n",
       "      <td>9191.000000</td>\n",
       "    </tr>\n",
       "    <tr>\n",
       "      <th>mean</th>\n",
       "      <td>10991.939615</td>\n",
       "      <td>24.977411</td>\n",
       "      <td>44.911298</td>\n",
       "    </tr>\n",
       "    <tr>\n",
       "      <th>std</th>\n",
       "      <td>23285.944994</td>\n",
       "      <td>24.444327</td>\n",
       "      <td>69.582071</td>\n",
       "    </tr>\n",
       "    <tr>\n",
       "      <th>min</th>\n",
       "      <td>0.000000</td>\n",
       "      <td>-51.641507</td>\n",
       "      <td>-175.213330</td>\n",
       "    </tr>\n",
       "    <tr>\n",
       "      <th>25%</th>\n",
       "      <td>19.000000</td>\n",
       "      <td>8.008267</td>\n",
       "      <td>5.070547</td>\n",
       "    </tr>\n",
       "    <tr>\n",
       "      <th>50%</th>\n",
       "      <td>433.000000</td>\n",
       "      <td>30.954130</td>\n",
       "      <td>38.964469</td>\n",
       "    </tr>\n",
       "    <tr>\n",
       "      <th>75%</th>\n",
       "      <td>6759.000000</td>\n",
       "      <td>44.366328</td>\n",
       "      <td>111.853818</td>\n",
       "    </tr>\n",
       "    <tr>\n",
       "      <th>max</th>\n",
       "      <td>99935.000000</td>\n",
       "      <td>69.971704</td>\n",
       "      <td>179.350460</td>\n",
       "    </tr>\n",
       "  </tbody>\n",
       "</table>\n",
       "</div>"
      ],
      "text/plain": [
       "       street_number     latitude    longitude\n",
       "count    9191.000000  9191.000000  9191.000000\n",
       "mean    10991.939615    24.977411    44.911298\n",
       "std     23285.944994    24.444327    69.582071\n",
       "min         0.000000   -51.641507  -175.213330\n",
       "25%        19.000000     8.008267     5.070547\n",
       "50%       433.000000    30.954130    38.964469\n",
       "75%      6759.000000    44.366328   111.853818\n",
       "max     99935.000000    69.971704   179.350460"
      ]
     },
     "execution_count": 8,
     "metadata": {},
     "output_type": "execute_result"
    }
   ],
   "source": [
    "customers.describe()"
   ]
  },
  {
   "cell_type": "code",
   "execution_count": 9,
   "id": "5b58b038",
   "metadata": {
    "ExecuteTime": {
     "end_time": "2024-10-31T14:06:00.379746Z",
     "start_time": "2024-10-31T14:06:00.362822Z"
    }
   },
   "outputs": [
    {
     "name": "stdout",
     "output_type": "stream",
     "text": [
      "<class 'pandas.core.frame.DataFrame'>\n",
      "RangeIndex: 9191 entries, 0 to 9190\n",
      "Data columns (total 17 columns):\n",
      " #   Column          Non-Null Count  Dtype  \n",
      "---  ------          --------------  -----  \n",
      " 0   customer_key    9191 non-null   object \n",
      " 1   name            9191 non-null   object \n",
      " 2   title           9191 non-null   object \n",
      " 3   gender          9191 non-null   object \n",
      " 4   date_of_birth   9191 non-null   object \n",
      " 5   email           9191 non-null   object \n",
      " 6   phone           9191 non-null   object \n",
      " 7   continent       9191 non-null   object \n",
      " 8   country         9191 non-null   object \n",
      " 9   country_code    9187 non-null   object \n",
      " 10  city            9191 non-null   object \n",
      " 11  street_address  9191 non-null   object \n",
      " 12  street_suffix   9191 non-null   object \n",
      " 13  street_name     9191 non-null   object \n",
      " 14  street_number   9191 non-null   int64  \n",
      " 15  latitude        9191 non-null   float64\n",
      " 16  longitude       9191 non-null   float64\n",
      "dtypes: float64(2), int64(1), object(14)\n",
      "memory usage: 1.2+ MB\n"
     ]
    }
   ],
   "source": [
    "customers.info()"
   ]
  },
  {
   "cell_type": "code",
   "execution_count": 10,
   "id": "8ce368ad",
   "metadata": {
    "ExecuteTime": {
     "end_time": "2024-10-31T14:06:00.394403Z",
     "start_time": "2024-10-31T14:06:00.384812Z"
    }
   },
   "outputs": [],
   "source": [
    "customers['date_of_birth'] = pd.to_datetime(customers['date_of_birth'], errors='coerce')"
   ]
  },
  {
   "cell_type": "code",
   "execution_count": 11,
   "id": "d2f65de8",
   "metadata": {
    "ExecuteTime": {
     "end_time": "2024-10-31T14:06:00.583249Z",
     "start_time": "2024-10-31T14:06:00.396951Z"
    }
   },
   "outputs": [
    {
     "data": {
      "image/png": "[encoded data removed]",
      "text/plain": [
       "<Figure size 800x600 with 1 Axes>"
      ]
     },
     "metadata": {},
     "output_type": "display_data"
    }
   ],
   "source": [
    "# Count the occurrences of each gender\n",
    "gender_counts = customers['gender'].value_counts()\n",
    "\n",
    "# Plot the pie chart\n",
    "plt.figure(figsize=(8, 6))\n",
    "plt.pie(gender_counts, labels=gender_counts.index, autopct='%1.1f%%', startangle=140)\n",
    "plt.title('Gender Distribution')\n",
    "plt.show()"
   ]
  },
  {
   "cell_type": "code",
   "execution_count": 12,
   "id": "a48fa30c",
   "metadata": {
    "ExecuteTime": {
     "end_time": "2024-10-31T14:06:01.014849Z",
     "start_time": "2024-10-31T14:06:00.585886Z"
    }
   },
   "outputs": [
    {
     "name": "stderr",
     "output_type": "stream",
     "text": [
      "/opt/anaconda3/lib/python3.11/site-packages/seaborn/_oldcore.py:1119: FutureWarning: use_inf_as_na option is deprecated and will be removed in a future version. Convert inf values to NaN before operating instead.\n",
      "  with pd.option_context('mode.use_inf_as_na', True):\n"
     ]
    },
    {
     "data": {
      "image/png": "[encoded data removed]",
      "text/plain": [
       "<Figure size 1000x600 with 1 Axes>"
      ]
     },
     "metadata": {},
     "output_type": "display_data"
    }
   ],
   "source": [
    "# Plot the distribution of dates of birth\n",
    "plt.figure(figsize=(10, 6))\n",
    "sns.histplot(customers['date_of_birth'], bins=30, kde=False)\n",
    "plt.xlabel('Date of Birth')\n",
    "plt.ylabel('Frequency')\n",
    "plt.title('Distribution of Dates of Birth')\n",
    "plt.show()"
   ]
  },
  {
   "cell_type": "code",
   "execution_count": 13,
   "id": "f487fed9",
   "metadata": {
    "ExecuteTime": {
     "end_time": "2024-10-31T14:06:01.221207Z",
     "start_time": "2024-10-31T14:06:01.017252Z"
    }
   },
   "outputs": [
    {
     "data": {
      "image/png": "[encoded data removed]",
      "text/plain": [
       "<Figure size 1000x600 with 1 Axes>"
      ]
     },
     "metadata": {},
     "output_type": "display_data"
    }
   ],
   "source": [
    "continent_counts = customers['continent'].value_counts()\n",
    "\n",
    "# Plot the bar chart for continent distribution\n",
    "plt.figure(figsize=(10, 6))\n",
    "sns.barplot(x=continent_counts.index, y=continent_counts.values, palette=\"viridis\")\n",
    "plt.xlabel('Continent')\n",
    "plt.ylabel('Count')\n",
    "plt.title('Distribution of Continents')\n",
    "plt.show()"
   ]
  },
  {
   "cell_type": "code",
   "execution_count": 18,
   "id": "7d792438",
   "metadata": {
    "ExecuteTime": {
     "end_time": "2024-10-31T14:07:38.708239Z",
     "start_time": "2024-10-31T14:06:54.623828Z"
    },
    "scrolled": true
   },
   "outputs": [
    {
     "name": "stdout",
     "output_type": "stream",
     "text": [
      "Collecting gdal\n",
      "  Downloading gdal-3.9.3.tar.gz (840 kB)\n",
      "\u001b[2K     \u001b[38;2;114;156;31m━━━━━━━━━━━━━━━━━━━━━━━━━━━━━━━━━━━━━━━\u001b[0m \u001b[32m840.8/840.8 kB\u001b[0m \u001b[31m5.3 MB/s\u001b[0m eta \u001b[36m0:00:00\u001b[0mm eta \u001b[36m0:00:01\u001b[0m0:01\u001b[0m:01\u001b[0m\n",
      "\u001b[?25h  Installing build dependencies ... \u001b[?25ldone\n",
      "\u001b[?25h  Getting requirements to build wheel ... \u001b[?25lerror\n",
      "  \u001b[1;31merror\u001b[0m: \u001b[1msubprocess-exited-with-error\u001b[0m\n",
      "  \n",
      "  \u001b[31m×\u001b[0m \u001b[32mGetting requirements to build wheel\u001b[0m did not run successfully.\n",
      "  \u001b[31m│\u001b[0m exit code: \u001b[1;36m1\u001b[0m\n",
      "  \u001b[31m╰─>\u001b[0m \u001b[31m[94 lines of output]\u001b[0m\n",
      "  \u001b[31m   \u001b[0m /private/var/folders/mm/fxsq_1490x9dd2w76tqvt3kr0000gn/T/pip-build-env-7qkzmtn1/overlay/lib/python3.11/site-packages/setuptools/config/_apply_pyprojecttoml.py:78: SetuptoolsWarning: `extras_require` overwritten in `pyproject.toml` (optional-dependencies)\n",
      "  \u001b[31m   \u001b[0m   corresp(dist, value, root_dir)\n",
      "  \u001b[31m   \u001b[0m Using numpy 2.1.2\n",
      "  \u001b[31m   \u001b[0m running egg_info\n",
      "  \u001b[31m   \u001b[0m writing gdal-utils/GDAL.egg-info/PKG-INFO\n",
      "  \u001b[31m   \u001b[0m writing dependency_links to gdal-utils/GDAL.egg-info/dependency_links.txt\n",
      "  \u001b[31m   \u001b[0m writing entry points to gdal-utils/GDAL.egg-info/entry_points.txt\n",
      "  \u001b[31m   \u001b[0m writing requirements to gdal-utils/GDAL.egg-info/requires.txt\n",
      "  \u001b[31m   \u001b[0m writing top-level names to gdal-utils/GDAL.egg-info/top_level.txt\n",
      "  \u001b[31m   \u001b[0m Traceback (most recent call last):\n",
      "  \u001b[31m   \u001b[0m   File \"<string>\", line 91, in fetch_config\n",
      "  \u001b[31m   \u001b[0m   File \"/opt/anaconda3/lib/python3.11/subprocess.py\", line 1026, in __init__\n",
      "  \u001b[31m   \u001b[0m     self._execute_child(args, executable, preexec_fn, close_fds,\n",
      "  \u001b[31m   \u001b[0m   File \"/opt/anaconda3/lib/python3.11/subprocess.py\", line 1955, in _execute_child\n",
      "  \u001b[31m   \u001b[0m     raise child_exception_type(errno_num, err_msg, err_filename)\n",
      "  \u001b[31m   \u001b[0m FileNotFoundError: [Errno 2] No such file or directory: 'gdal-config'\n",
      "  \u001b[31m   \u001b[0m \n",
      "  \u001b[31m   \u001b[0m During handling of the above exception, another exception occurred:\n",
      "  \u001b[31m   \u001b[0m \n",
      "  \u001b[31m   \u001b[0m Traceback (most recent call last):\n",
      "  \u001b[31m   \u001b[0m   File \"<string>\", line 231, in get_gdal_config\n",
      "  \u001b[31m   \u001b[0m   File \"<string>\", line 94, in fetch_config\n",
      "  \u001b[31m   \u001b[0m gdal_config_error: [Errno 2] No such file or directory: 'gdal-config'\n",
      "  \u001b[31m   \u001b[0m \n",
      "  \u001b[31m   \u001b[0m During handling of the above exception, another exception occurred:\n",
      "  \u001b[31m   \u001b[0m \n",
      "  \u001b[31m   \u001b[0m Traceback (most recent call last):\n",
      "  \u001b[31m   \u001b[0m   File \"/opt/anaconda3/lib/python3.11/site-packages/pip/_vendor/pyproject_hooks/_in_process/_in_process.py\", line 353, in <module>\n",
      "  \u001b[31m   \u001b[0m     main()\n",
      "  \u001b[31m   \u001b[0m   File \"/opt/anaconda3/lib/python3.11/site-packages/pip/_vendor/pyproject_hooks/_in_process/_in_process.py\", line 335, in main\n",
      "  \u001b[31m   \u001b[0m     json_out['return_val'] = hook(**hook_input['kwargs'])\n",
      "  \u001b[31m   \u001b[0m                              ^^^^^^^^^^^^^^^^^^^^^^^^^^^^\n",
      "  \u001b[31m   \u001b[0m   File \"/opt/anaconda3/lib/python3.11/site-packages/pip/_vendor/pyproject_hooks/_in_process/_in_process.py\", line 118, in get_requires_for_build_wheel\n",
      "  \u001b[31m   \u001b[0m     return hook(config_settings)\n",
      "  \u001b[31m   \u001b[0m            ^^^^^^^^^^^^^^^^^^^^^\n",
      "  \u001b[31m   \u001b[0m   File \"/private/var/folders/mm/fxsq_1490x9dd2w76tqvt3kr0000gn/T/pip-build-env-7qkzmtn1/overlay/lib/python3.11/site-packages/setuptools/build_meta.py\", line 333, in get_requires_for_build_wheel\n",
      "  \u001b[31m   \u001b[0m     return self._get_build_requires(config_settings, requirements=[])\n",
      "  \u001b[31m   \u001b[0m            ^^^^^^^^^^^^^^^^^^^^^^^^^^^^^^^^^^^^^^^^^^^^^^^^^^^^^^^^^^\n",
      "  \u001b[31m   \u001b[0m   File \"/private/var/folders/mm/fxsq_1490x9dd2w76tqvt3kr0000gn/T/pip-build-env-7qkzmtn1/overlay/lib/python3.11/site-packages/setuptools/build_meta.py\", line 303, in _get_build_requires\n",
      "  \u001b[31m   \u001b[0m     self.run_setup()\n",
      "  \u001b[31m   \u001b[0m   File \"/private/var/folders/mm/fxsq_1490x9dd2w76tqvt3kr0000gn/T/pip-build-env-7qkzmtn1/overlay/lib/python3.11/site-packages/setuptools/build_meta.py\", line 319, in run_setup\n",
      "  \u001b[31m   \u001b[0m     exec(code, locals())\n",
      "  \u001b[31m   \u001b[0m   File \"<string>\", line 429, in <module>\n",
      "  \u001b[31m   \u001b[0m   File \"/private/var/folders/mm/fxsq_1490x9dd2w76tqvt3kr0000gn/T/pip-build-env-7qkzmtn1/overlay/lib/python3.11/site-packages/setuptools/__init__.py\", line 117, in setup\n",
      "  \u001b[31m   \u001b[0m     return distutils.core.setup(**attrs)\n",
      "  \u001b[31m   \u001b[0m            ^^^^^^^^^^^^^^^^^^^^^^^^^^^^^\n",
      "  \u001b[31m   \u001b[0m   File \"/private/var/folders/mm/fxsq_1490x9dd2w76tqvt3kr0000gn/T/pip-build-env-7qkzmtn1/overlay/lib/python3.11/site-packages/setuptools/_distutils/core.py\", line 183, in setup\n",
      "  \u001b[31m   \u001b[0m     return run_commands(dist)\n",
      "  \u001b[31m   \u001b[0m            ^^^^^^^^^^^^^^^^^^\n",
      "  \u001b[31m   \u001b[0m   File \"/private/var/folders/mm/fxsq_1490x9dd2w76tqvt3kr0000gn/T/pip-build-env-7qkzmtn1/overlay/lib/python3.11/site-packages/setuptools/_distutils/core.py\", line 199, in run_commands\n",
      "  \u001b[31m   \u001b[0m     dist.run_commands()\n",
      "  \u001b[31m   \u001b[0m   File \"/private/var/folders/mm/fxsq_1490x9dd2w76tqvt3kr0000gn/T/pip-build-env-7qkzmtn1/overlay/lib/python3.11/site-packages/setuptools/_distutils/dist.py\", line 954, in run_commands\n",
      "  \u001b[31m   \u001b[0m     self.run_command(cmd)\n",
      "  \u001b[31m   \u001b[0m   File \"/private/var/folders/mm/fxsq_1490x9dd2w76tqvt3kr0000gn/T/pip-build-env-7qkzmtn1/overlay/lib/python3.11/site-packages/setuptools/dist.py\", line 999, in run_command\n",
      "  \u001b[31m   \u001b[0m     super().run_command(command)\n",
      "  \u001b[31m   \u001b[0m   File \"/private/var/folders/mm/fxsq_1490x9dd2w76tqvt3kr0000gn/T/pip-build-env-7qkzmtn1/overlay/lib/python3.11/site-packages/setuptools/_distutils/dist.py\", line 973, in run_command\n",
      "  \u001b[31m   \u001b[0m     cmd_obj.run()\n",
      "  \u001b[31m   \u001b[0m   File \"/private/var/folders/mm/fxsq_1490x9dd2w76tqvt3kr0000gn/T/pip-build-env-7qkzmtn1/overlay/lib/python3.11/site-packages/setuptools/command/egg_info.py\", line 312, in run\n",
      "  \u001b[31m   \u001b[0m     self.find_sources()\n",
      "  \u001b[31m   \u001b[0m   File \"/private/var/folders/mm/fxsq_1490x9dd2w76tqvt3kr0000gn/T/pip-build-env-7qkzmtn1/overlay/lib/python3.11/site-packages/setuptools/command/egg_info.py\", line 320, in find_sources\n",
      "  \u001b[31m   \u001b[0m     mm.run()\n",
      "  \u001b[31m   \u001b[0m   File \"/private/var/folders/mm/fxsq_1490x9dd2w76tqvt3kr0000gn/T/pip-build-env-7qkzmtn1/overlay/lib/python3.11/site-packages/setuptools/command/egg_info.py\", line 541, in run\n",
      "  \u001b[31m   \u001b[0m     self.add_defaults()\n",
      "  \u001b[31m   \u001b[0m   File \"/private/var/folders/mm/fxsq_1490x9dd2w76tqvt3kr0000gn/T/pip-build-env-7qkzmtn1/overlay/lib/python3.11/site-packages/setuptools/command/egg_info.py\", line 579, in add_defaults\n",
      "  \u001b[31m   \u001b[0m     sdist.add_defaults(self)\n",
      "  \u001b[31m   \u001b[0m   File \"/private/var/folders/mm/fxsq_1490x9dd2w76tqvt3kr0000gn/T/pip-build-env-7qkzmtn1/overlay/lib/python3.11/site-packages/setuptools/command/sdist.py\", line 109, in add_defaults\n",
      "  \u001b[31m   \u001b[0m     super().add_defaults()\n",
      "  \u001b[31m   \u001b[0m   File \"/private/var/folders/mm/fxsq_1490x9dd2w76tqvt3kr0000gn/T/pip-build-env-7qkzmtn1/overlay/lib/python3.11/site-packages/setuptools/_distutils/command/sdist.py\", line 238, in add_defaults\n",
      "  \u001b[31m   \u001b[0m     self._add_defaults_ext()\n",
      "  \u001b[31m   \u001b[0m   File \"/private/var/folders/mm/fxsq_1490x9dd2w76tqvt3kr0000gn/T/pip-build-env-7qkzmtn1/overlay/lib/python3.11/site-packages/setuptools/_distutils/command/sdist.py\", line 322, in _add_defaults_ext\n",
      "  \u001b[31m   \u001b[0m     build_ext = self.get_finalized_command('build_ext')\n",
      "  \u001b[31m   \u001b[0m                 ^^^^^^^^^^^^^^^^^^^^^^^^^^^^^^^^^^^^^^^\n",
      "  \u001b[31m   \u001b[0m   File \"/private/var/folders/mm/fxsq_1490x9dd2w76tqvt3kr0000gn/T/pip-build-env-7qkzmtn1/overlay/lib/python3.11/site-packages/setuptools/_distutils/cmd.py\", line 303, in get_finalized_command\n",
      "  \u001b[31m   \u001b[0m     cmd_obj.ensure_finalized()\n",
      "  \u001b[31m   \u001b[0m   File \"/private/var/folders/mm/fxsq_1490x9dd2w76tqvt3kr0000gn/T/pip-build-env-7qkzmtn1/overlay/lib/python3.11/site-packages/setuptools/_distutils/cmd.py\", line 111, in ensure_finalized\n",
      "  \u001b[31m   \u001b[0m     self.finalize_options()\n",
      "  \u001b[31m   \u001b[0m   File \"<string>\", line 307, in finalize_options\n",
      "  \u001b[31m   \u001b[0m   File \"<string>\", line 237, in get_gdal_config\n",
      "  \u001b[31m   \u001b[0m gdal_config_error: Traceback (most recent call last):\n",
      "  \u001b[31m   \u001b[0m   File \"<string>\", line 91, in fetch_config\n",
      "  \u001b[31m   \u001b[0m   File \"/opt/anaconda3/lib/python3.11/subprocess.py\", line 1026, in __init__\n",
      "  \u001b[31m   \u001b[0m     self._execute_child(args, executable, preexec_fn, close_fds,\n",
      "  \u001b[31m   \u001b[0m   File \"/opt/anaconda3/lib/python3.11/subprocess.py\", line 1955, in _execute_child\n",
      "  \u001b[31m   \u001b[0m     raise child_exception_type(errno_num, err_msg, err_filename)\n",
      "  \u001b[31m   \u001b[0m FileNotFoundError: [Errno 2] No such file or directory: 'gdal-config'\n",
      "  \u001b[31m   \u001b[0m \n",
      "  \u001b[31m   \u001b[0m During handling of the above exception, another exception occurred:\n",
      "  \u001b[31m   \u001b[0m \n",
      "  \u001b[31m   \u001b[0m Traceback (most recent call last):\n",
      "  \u001b[31m   \u001b[0m   File \"<string>\", line 231, in get_gdal_config\n",
      "  \u001b[31m   \u001b[0m   File \"<string>\", line 94, in fetch_config\n",
      "  \u001b[31m   \u001b[0m gdal_config_error: [Errno 2] No such file or directory: 'gdal-config'\n",
      "  \u001b[31m   \u001b[0m \n",
      "  \u001b[31m   \u001b[0m Could not find gdal-config. Make sure you have installed the GDAL native library and development headers.\n",
      "  \u001b[31m   \u001b[0m \u001b[31m[end of output]\u001b[0m\n",
      "  \n",
      "  \u001b[1;35mnote\u001b[0m: This error originates from a subprocess, and is likely not a problem with pip.\n",
      "\u001b[1;31merror\u001b[0m: \u001b[1msubprocess-exited-with-error\u001b[0m\n",
      "\n",
      "\u001b[31m×\u001b[0m \u001b[32mGetting requirements to build wheel\u001b[0m did not run successfully.\n",
      "\u001b[31m│\u001b[0m exit code: \u001b[1;36m1\u001b[0m\n",
      "\u001b[31m╰─>\u001b[0m See above for output.\n",
      "\n",
      "\u001b[1;35mnote\u001b[0m: This error originates from a subprocess, and is likely not a problem with pip.\n"
     ]
    },
    {
     "name": "stdout",
     "output_type": "stream",
     "text": [
      "\u001b[?25hNote: you may need to restart the kernel to use updated packages.\n",
      "Collecting geopandas\n",
      "  Using cached geopandas-1.0.1-py3-none-any.whl.metadata (2.2 kB)\n",
      "Requirement already satisfied: numpy>=1.22 in /opt/anaconda3/lib/python3.11/site-packages (from geopandas) (1.26.4)\n",
      "Collecting pyogrio>=0.7.2 (from geopandas)\n",
      "  Using cached pyogrio-0.10.0.tar.gz (281 kB)\n",
      "  Installing build dependencies ... \u001b[?25ldone\n",
      "\u001b[?25h  Getting requirements to build wheel ... \u001b[?25ldone\n",
      "\u001b[?25h  Preparing metadata (pyproject.toml) ... \u001b[?25lerror\n",
      "  \u001b[1;31merror\u001b[0m: \u001b[1msubprocess-exited-with-error\u001b[0m\n",
      "  \n",
      "  \u001b[31m×\u001b[0m \u001b[32mPreparing metadata \u001b[0m\u001b[1;32m(\u001b[0m\u001b[32mpyproject.toml\u001b[0m\u001b[1;32m)\u001b[0m did not run successfully.\n",
      "  \u001b[31m│\u001b[0m exit code: \u001b[1;36m1\u001b[0m\n",
      "  \u001b[31m╰─>\u001b[0m \u001b[31m[29 lines of output]\u001b[0m\n",
      "  \u001b[31m   \u001b[0m Traceback (most recent call last):\n",
      "  \u001b[31m   \u001b[0m   File \"/opt/anaconda3/lib/python3.11/site-packages/pip/_vendor/pyproject_hooks/_in_process/_in_process.py\", line 353, in <module>\n",
      "  \u001b[31m   \u001b[0m     main()\n",
      "  \u001b[31m   \u001b[0m   File \"/opt/anaconda3/lib/python3.11/site-packages/pip/_vendor/pyproject_hooks/_in_process/_in_process.py\", line 335, in main\n",
      "  \u001b[31m   \u001b[0m     json_out['return_val'] = hook(**hook_input['kwargs'])\n",
      "  \u001b[31m   \u001b[0m                              ^^^^^^^^^^^^^^^^^^^^^^^^^^^^\n",
      "  \u001b[31m   \u001b[0m   File \"/opt/anaconda3/lib/python3.11/site-packages/pip/_vendor/pyproject_hooks/_in_process/_in_process.py\", line 149, in prepare_metadata_for_build_wheel\n",
      "  \u001b[31m   \u001b[0m     return hook(metadata_directory, config_settings)\n",
      "  \u001b[31m   \u001b[0m            ^^^^^^^^^^^^^^^^^^^^^^^^^^^^^^^^^^^^^^^^^\n",
      "  \u001b[31m   \u001b[0m   File \"/private/var/folders/mm/fxsq_1490x9dd2w76tqvt3kr0000gn/T/pip-build-env-f3otpe0o/overlay/lib/python3.11/site-packages/setuptools/build_meta.py\", line 376, in prepare_metadata_for_build_wheel\n",
      "  \u001b[31m   \u001b[0m     self.run_setup()\n",
      "  \u001b[31m   \u001b[0m   File \"/private/var/folders/mm/fxsq_1490x9dd2w76tqvt3kr0000gn/T/pip-build-env-f3otpe0o/overlay/lib/python3.11/site-packages/setuptools/build_meta.py\", line 319, in run_setup\n",
      "  \u001b[31m   \u001b[0m     exec(code, locals())\n",
      "  \u001b[31m   \u001b[0m   File \"<string>\", line 154, in <module>\n",
      "  \u001b[31m   \u001b[0m   File \"<string>\", line 129, in get_gdal_config\n",
      "  \u001b[31m   \u001b[0m   File \"<string>\", line 85, in get_gdal_config\n",
      "  \u001b[31m   \u001b[0m   File \"<string>\", line 85, in <dictcomp>\n",
      "  \u001b[31m   \u001b[0m   File \"<string>\", line 39, in read_response\n",
      "  \u001b[31m   \u001b[0m   File \"/opt/anaconda3/lib/python3.11/subprocess.py\", line 466, in check_output\n",
      "  \u001b[31m   \u001b[0m     return run(*popenargs, stdout=PIPE, timeout=timeout, check=True,\n",
      "  \u001b[31m   \u001b[0m            ^^^^^^^^^^^^^^^^^^^^^^^^^^^^^^^^^^^^^^^^^^^^^^^^^^^^^^^^^\n",
      "  \u001b[31m   \u001b[0m   File \"/opt/anaconda3/lib/python3.11/subprocess.py\", line 548, in run\n",
      "  \u001b[31m   \u001b[0m     with Popen(*popenargs, **kwargs) as process:\n",
      "  \u001b[31m   \u001b[0m          ^^^^^^^^^^^^^^^^^^^^^^^^^^^\n",
      "  \u001b[31m   \u001b[0m   File \"/opt/anaconda3/lib/python3.11/subprocess.py\", line 1026, in __init__\n",
      "  \u001b[31m   \u001b[0m     self._execute_child(args, executable, preexec_fn, close_fds,\n",
      "  \u001b[31m   \u001b[0m   File \"/opt/anaconda3/lib/python3.11/subprocess.py\", line 1955, in _execute_child\n",
      "  \u001b[31m   \u001b[0m     raise child_exception_type(errno_num, err_msg, err_filename)\n",
      "  \u001b[31m   \u001b[0m FileNotFoundError: [Errno 2] No such file or directory: 'gdal-config'\n",
      "  \u001b[31m   \u001b[0m \u001b[31m[end of output]\u001b[0m\n",
      "  \n",
      "  \u001b[1;35mnote\u001b[0m: This error originates from a subprocess, and is likely not a problem with pip.\n",
      "\u001b[1;31merror\u001b[0m: \u001b[1mmetadata-generation-failed\u001b[0m\n",
      "\n",
      "\u001b[31m×\u001b[0m Encountered error while generating package metadata.\n",
      "\u001b[31m╰─>\u001b[0m See above for output.\n",
      "\n",
      "\u001b[1;35mnote\u001b[0m: This is an issue with the package mentioned above, not pip.\n",
      "\u001b[1;36mhint\u001b[0m: See above for details.\n",
      "\u001b[?25hNote: you may need to restart the kernel to use updated packages.\n"
     ]
    }
   ],
   "source": [
    "%pip install gdal\n",
    "%pip install geopandas"
   ]
  },
  {
   "cell_type": "code",
   "execution_count": 17,
   "id": "9d3f2349",
   "metadata": {
    "ExecuteTime": {
     "end_time": "2024-10-31T14:06:27.535336Z",
     "start_time": "2024-10-31T14:06:27.505770Z"
    }
   },
   "outputs": [
    {
     "ename": "ModuleNotFoundError",
     "evalue": "No module named 'geopandas'",
     "output_type": "error",
     "traceback": [
      "\u001b[0;31m---------------------------------------------------------------------------\u001b[0m",
      "\u001b[0;31mModuleNotFoundError\u001b[0m                       Traceback (most recent call last)",
      "Cell \u001b[0;32mIn[17], line 1\u001b[0m\n\u001b[0;32m----> 1\u001b[0m \u001b[38;5;28;01mimport\u001b[39;00m \u001b[38;5;21;01mgeopandas\u001b[39;00m \u001b[38;5;28;01mas\u001b[39;00m \u001b[38;5;21;01mgpd\u001b[39;00m\n\u001b[1;32m      2\u001b[0m \u001b[38;5;28;01mimport\u001b[39;00m \u001b[38;5;21;01mmatplotlib\u001b[39;00m\u001b[38;5;21;01m.\u001b[39;00m\u001b[38;5;21;01mpyplot\u001b[39;00m \u001b[38;5;28;01mas\u001b[39;00m \u001b[38;5;21;01mplt\u001b[39;00m\n\u001b[1;32m      3\u001b[0m \u001b[38;5;28;01mfrom\u001b[39;00m \u001b[38;5;21;01mshapely\u001b[39;00m\u001b[38;5;21;01m.\u001b[39;00m\u001b[38;5;21;01mgeometry\u001b[39;00m \u001b[38;5;28;01mimport\u001b[39;00m Point\n",
      "\u001b[0;31mModuleNotFoundError\u001b[0m: No module named 'geopandas'"
     ]
    }
   ],
   "source": [
    "import geopandas as gpd\n",
    "import matplotlib.pyplot as plt\n",
    "from shapely.geometry import Point\n",
    "\n",
    "# Convert latitude and longitude to GeoDataFrame points\n",
    "geometry = [Point(xy) for xy in zip(customers['longitude'], customers['latitude'])]\n",
    "gdf = gpd.GeoDataFrame(customers, geometry=geometry)\n",
    "\n",
    "# Load a world map\n",
    "world = gpd.read_file(gpd.datasets.get_path('naturalearth_lowres'))\n",
    "\n",
    "# Plot the map and add the points\n",
    "fig, ax = plt.subplots(figsize=(10, 6))\n",
    "world.plot(ax=ax, color='lightgrey')\n",
    "\n",
    "# Plot points\n",
    "gdf.plot(ax=ax, markersize=50, color='red', marker='o', label=\"Locations\")\n",
    "plt.title('Map of Locations by Latitude and Longitude')\n",
    "plt.xlabel('Longitude')\n",
    "plt.ylabel('Latitude')\n",
    "plt.legend()\n",
    "plt.show()\n"
   ]
  },
  {
   "cell_type": "markdown",
   "id": "2feff8e5",
   "metadata": {
    "ExecuteTime": {
     "end_time": "2024-10-31T13:55:39.028923Z",
     "start_time": "2024-10-31T13:55:39.026423Z"
    }
   },
   "source": [
    "## Dates"
   ]
  },
  {
   "cell_type": "code",
   "execution_count": null,
   "id": "dab3b851",
   "metadata": {},
   "outputs": [],
   "source": []
  },
  {
   "cell_type": "markdown",
   "id": "74481af5",
   "metadata": {
    "ExecuteTime": {
     "end_time": "2024-10-31T13:55:47.372266Z",
     "start_time": "2024-10-31T13:55:47.369894Z"
    }
   },
   "source": [
    "## Payments"
   ]
  },
  {
   "cell_type": "code",
   "execution_count": null,
   "id": "0f09ee55",
   "metadata": {},
   "outputs": [],
   "source": []
  },
  {
   "cell_type": "markdown",
   "id": "305bc6ba",
   "metadata": {
    "ExecuteTime": {
     "end_time": "2024-10-31T13:55:50.229574Z",
     "start_time": "2024-10-31T13:55:50.227128Z"
    }
   },
   "source": [
    "## Products"
   ]
  },
  {
   "cell_type": "code",
   "execution_count": null,
   "id": "0b3a7744",
   "metadata": {},
   "outputs": [],
   "source": []
  },
  {
   "cell_type": "markdown",
   "id": "4c8db572",
   "metadata": {
    "ExecuteTime": {
     "end_time": "2024-10-31T13:55:53.861509Z",
     "start_time": "2024-10-31T13:55:53.859015Z"
    }
   },
   "source": [
    "## Warehouses"
   ]
  },
  {
   "cell_type": "code",
   "execution_count": null,
   "id": "b73da4e2",
   "metadata": {},
   "outputs": [],
   "source": []
  }
 ],
 "metadata": {
  "kernelspec": {
   "display_name": "Python 3 (ipykernel)",
   "language": "python",
   "name": "python3"
  },
  "language_info": {
   "codemirror_mode": {
    "name": "ipython",
    "version": 3
   },
   "file_extension": ".py",
   "mimetype": "text/x-python",
   "name": "python",
   "nbconvert_exporter": "python",
   "pygments_lexer": "ipython3",
   "version": "3.11.9"
  }
 },
 "nbformat": 4,
 "nbformat_minor": 5
}
